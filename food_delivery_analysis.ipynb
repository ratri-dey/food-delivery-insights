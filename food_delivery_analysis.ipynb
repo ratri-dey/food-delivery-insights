{
 "cells": [
  {
   "cell_type": "markdown",
   "id": "2b5b8b35",
   "metadata": {},
   "source": [
    "# Food Delivery Data Analysis\n",
    "\n",
    "This notebook performs data cleaning, feature engineering, and exploratory analysis on Indian food delivery data."
   ]
  },
  {
   "cell_type": "code",
   "execution_count": null,
   "id": "f71fa94b",
   "metadata": {},
   "outputs": [],
   "source": [
    "import pandas as pd\n",
    "import numpy as np\n",
    "import matplotlib.pyplot as plt\n",
    "import seaborn as sns\n",
    "\n",
    "# Load dataset\n",
    "df = pd.read_csv('../data/food_orders.csv')\n",
    "df.head()"
   ]
  },
  {
   "cell_type": "markdown",
   "id": "cf8edf74",
   "metadata": {},
   "source": [
    "## Convert OrderTime and DeliveryTime to datetime"
   ]
  },
  {
   "cell_type": "code",
   "execution_count": null,
   "id": "0f0d489b",
   "metadata": {},
   "outputs": [],
   "source": [
    "df['OrderTime'] = pd.to_datetime(df['OrderTime'])\n",
    "df['DeliveryTime'] = pd.to_datetime(df['DeliveryTime'])"
   ]
  },
  {
   "cell_type": "markdown",
   "id": "67983e93",
   "metadata": {},
   "source": [
    "## Feature Engineering: DeliveryDuration, IsDelayed, DayOfWeek, HourOfDay"
   ]
  },
  {
   "cell_type": "code",
   "execution_count": null,
   "id": "d6495416",
   "metadata": {},
   "outputs": [],
   "source": [
    "df['DeliveryDuration'] = (df['DeliveryTime'] - df['OrderTime']).dt.total_seconds() / 60\n",
    "df['IsDelayed'] = df['DeliveryDuration'] > 45\n",
    "df['DayOfWeek'] = df['OrderTime'].dt.day_name()\n",
    "df['HourOfDay'] = df['OrderTime'].dt.hour\n",
    "df.head()"
   ]
  },
  {
   "cell_type": "markdown",
   "id": "ceae8fe3",
   "metadata": {},
   "source": [
    "## Summary Statistics"
   ]
  },
  {
   "cell_type": "code",
   "execution_count": null,
   "id": "e438da82",
   "metadata": {},
   "outputs": [],
   "source": [
    "df.describe()"
   ]
  },
  {
   "cell_type": "code",
   "execution_count": null,
   "id": "399256f8",
   "metadata": {},
   "outputs": [],
   "source": [
    "df['City'].value_counts()"
   ]
  },
  {
   "cell_type": "code",
   "execution_count": null,
   "id": "55edded1",
   "metadata": {},
   "outputs": [],
   "source": [
    "df['Cuisine'].value_counts()"
   ]
  },
  {
   "cell_type": "markdown",
   "id": "2cf93913",
   "metadata": {},
   "source": [
    "## Top Cuisines by Orders"
   ]
  },
  {
   "cell_type": "code",
   "execution_count": null,
   "id": "d9d4bca4",
   "metadata": {},
   "outputs": [],
   "source": [
    "plt.figure(figsize=(10,5))\n",
    "sns.countplot(data=df, y='Cuisine', order=df['Cuisine'].value_counts().index, palette='viridis')\n",
    "plt.title('Top Cuisines by Orders')\n",
    "plt.xlabel('Order Count')\n",
    "plt.ylabel('Cuisine')\n",
    "plt.show()"
   ]
  },
  {
   "cell_type": "markdown",
   "id": "a0014be4",
   "metadata": {},
   "source": [
    "## Average Delivery Time per City"
   ]
  },
  {
   "cell_type": "code",
   "execution_count": null,
   "id": "133e4e95",
   "metadata": {},
   "outputs": [],
   "source": [
    "avg_delivery = df.groupby('City')['DeliveryDuration'].mean().sort_values()\n",
    "plt.figure(figsize=(10,5))\n",
    "sns.barplot(x=avg_delivery.values, y=avg_delivery.index, palette='coolwarm')\n",
    "plt.title('Avg Delivery Duration by City')\n",
    "plt.xlabel('Avg Minutes')\n",
    "plt.ylabel('City')\n",
    "plt.show()"
   ]
  },
  {
   "cell_type": "markdown",
   "id": "e9a12623",
   "metadata": {},
   "source": [
    "## On-Time Delivery Percentage"
   ]
  },
  {
   "cell_type": "code",
   "execution_count": null,
   "id": "cc23ec17",
   "metadata": {},
   "outputs": [],
   "source": [
    "on_time_pct = (~df['IsDelayed']).mean() * 100\n",
    "print(f\"On-time Delivery Rate: {on_time_pct:.2f}%\")"
   ]
  },
  {
   "cell_type": "markdown",
   "id": "8b219d06",
   "metadata": {},
   "source": [
    "## Peak Order Hours"
   ]
  },
  {
   "cell_type": "code",
   "execution_count": null,
   "id": "e4e433b0",
   "metadata": {},
   "outputs": [],
   "source": [
    "plt.figure(figsize=(10,5))\n",
    "sns.histplot(df['HourOfDay'], bins=24, kde=False, color='orange')\n",
    "plt.title('Order Frequency by Hour of Day')\n",
    "plt.xlabel('Hour')\n",
    "plt.ylabel('Number of Orders')\n",
    "plt.xticks(range(24))\n",
    "plt.show()"
   ]
  },
  {
   "cell_type": "markdown",
   "id": "7baafb04",
   "metadata": {},
   "source": [
    "## Delivery Rating vs Cuisine"
   ]
  },
  {
   "cell_type": "code",
   "execution_count": null,
   "id": "e907d2b4",
   "metadata": {},
   "outputs": [],
   "source": [
    "plt.figure(figsize=(12,6))\n",
    "sns.boxplot(data=df, x='Cuisine', y='DeliveryRating', palette='Set2')\n",
    "plt.xticks(rotation=45)\n",
    "plt.title('Customer Ratings by Cuisine')\n",
    "plt.show()"
   ]
  },
  {
   "cell_type": "markdown",
   "id": "a3673f77",
   "metadata": {},
   "source": [
    "## Export Cleaned Data"
   ]
  },
  {
   "cell_type": "code",
   "execution_count": null,
   "id": "a92a9ce7",
   "metadata": {},
   "outputs": [],
   "source": [
    "df.to_csv('../data/food_orders_cleaned.csv', index=False)"
   ]
  }
 ],
 "metadata": {},
 "nbformat": 4,
 "nbformat_minor": 5
}
